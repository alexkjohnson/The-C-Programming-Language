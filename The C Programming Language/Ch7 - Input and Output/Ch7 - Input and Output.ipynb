{
 "cells": [
  {
   "cell_type": "markdown",
   "id": "cd9f2c42-90f7-47e1-86a2-fddd7a627075",
   "metadata": {},
   "source": [
    "# Ch7 - Input and Output"
   ]
  },
  {
   "cell_type": "markdown",
   "id": "ef07035a-c8df-43db-b682-6387d9b8a86a",
   "metadata": {},
   "source": [
    "IO facilities not part of the C language itself - this ch. will desc. the stdlib.\n",
    "\n",
    "The ANSI std defines these lib functions precisely so they can exist in compatible form on any system where C exists\n",
    "\n",
    "## 7.1 Standard Input and Output\n",
    "A text stream is a sequence of lines - each line ends with a newline character\n",
    "- if the system does not operate that way, the library does whatever is necessary to make it look like it does\n",
    "\n",
    "the simplest input mechanism is to read one character at a time from the standard input, normally the keyboard, with `getchar`: `int getchar(void)`\n",
    "- `getchar` returns the next input character each time it is called, or EOF\n",
    "\n",
    "In many environments a file may be substituted for the keyboard by using the `<` for input redirection: if a program uses `getchar` then the command line `prog <infile` causes `prog` to read characters from `infile` instead\n",
    "- the input switching is done is such a way that prog is oblivious to the change\n",
    "\n",
    "Input switching is also invisible if the input itself comes from another program via pipe `|` \n",
    "- `otherprog | prog`\n",
    "\n",
    "- `prog >outfile`\n",
    "\n",
    "Each source file that refers to an input/output lib function must contain the line; `#include <stdio.h>` before the first reference\n",
    "- when the `< >` are used a search is made for the header in a standard set of places - typically the dir `/usr/include` (on UNIX systems)\n",
    "\n",
    "## 7.2 Formatted Output - Printf\n",
    "printf translates internal values to characters\n",
    "\n",
    "## 7.3 Variable-length Argument Lists\n",
    "\n",
    "## 7.4 Formatted Input - Scanf\n",
    "`scanf` is the input analog of `printf` providing many of the same conversion facilities in the opposite direction\n",
    "- `scanf` reads chars from the std input, interprets them, and stores the results through the remaining arguments\n",
    "- is also a function `sscanf` that reads from a string instead of from std input\n",
    "\n",
    "## 7.5 File Access\n",
    "The Ex's so far have all read the std input & written the std output, which are automatically defined for a program by the local OS\n",
    "\n",
    "The next step is to write a program that accesses a file that is not already connected to the program\n",
    "- eg: `cat x.c y.c` - prints the contents of the files x.c and y.c on the std output\n",
    "\n",
    "How to arrange for named files to be read - how to connect the external names that a user thinks of to the statements that read the data\n",
    "- before it can be read or written a file has to be opened; lib function `fopen`\n",
    "    - `fopen` takes an external name (such as x.c or y.c), does some housekeeping/negotiation with the OS & returns a pointer to be used in reads/writes of the file\n",
    "- this pointer called the **file pointer** points to a structure that contains info about the file\n",
    "\n",
    "when a C program is started, the OS environment is responsible for opening 3 files and providing file pointers for them\n",
    "- files: standard input, standard output, standard error\n",
    "- corresponding pointers are called: stdin, stdout, stderr and are declared in <stdio.h>\n",
    "- normally stdin is connected to the keyboard & stdout / stderr are connected to the screen, but stdin & stdout may be redirected to files or pipes"
   ]
  },
  {
   "cell_type": "markdown",
   "id": "d6b81cb8-adfb-4d71-b878-2d32bd962879",
   "metadata": {},
   "source": [
    "## 7.6 Error Handling - Stderr & Exit\n",
    "Ouput written on stderr normally appears on the screen even if the std output is redirected\n",
    "\n",
    "Signals errors in 2 ways\n",
    "1. diagnostic output produced by fprintf goes onto stderr - so it makes its way onto the screen instead of disappearing down a pipe or into an output file\n",
    "2. the program uses the std library function `exit` which terminates program execution when called\n",
    "\n",
    "### 7.8.5 Storage Management\n",
    "The functions `malloc` and `calloc` obtain blocks of memory dynamically\n",
    "\n",
    "    void *malloc(size_t n)\n",
    "\n",
    "returns a pointer to n bytes of uninitialized storage, or NULL if the request cannot be satisfied\n",
    "\n",
    "    void *calloc(size_t n, size_t size)\n",
    "\n",
    "returns a pointer to enough space for an array of n objects of the specified size, or NULL if the request cannot be satisfied.\n",
    "- the storage is initialized to zero\n",
    "\n",
    "The pointer returned by `malloc` or `calloc` has the proper alignment for the object in question, but it must be cast into the appropriate type, as in\n",
    "\n",
    "    int *ip;\n",
    "\n",
    "    ip = (int *) calloc(n, sizeof(int));\n",
    "\n",
    "`free(p)` frees the space pointed to by `p` where `p` was originally obtained by a call to `malloc` or `calloc`\n",
    "\n",
    "### 7.8.6 Mathematical Functions\n",
    "more than 20 math functions declared in <math.h>"
   ]
  },
  {
   "cell_type": "code",
   "execution_count": null,
   "id": "cbc48d6f-64fd-4c6f-b10f-2fdb261ecb20",
   "metadata": {},
   "outputs": [],
   "source": []
  }
 ],
 "metadata": {
  "kernelspec": {
   "display_name": "Python 3 (ipykernel)",
   "language": "python",
   "name": "python3"
  },
  "language_info": {
   "codemirror_mode": {
    "name": "ipython",
    "version": 3
   },
   "file_extension": ".py",
   "mimetype": "text/x-python",
   "name": "python",
   "nbconvert_exporter": "python",
   "pygments_lexer": "ipython3",
   "version": "3.12.6"
  }
 },
 "nbformat": 4,
 "nbformat_minor": 5
}
